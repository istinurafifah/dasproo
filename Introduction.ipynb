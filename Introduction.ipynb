{
 "cells": [
  {
   "cell_type": "markdown",
   "id": "1dfd7fde",
   "metadata": {},
   "source": [
    "\n",
    "<img src=\"https://cdn.freebiesupply.com/logos/large/2x/python-5-logo-png-transparent.png\" width=\"200\">\n",
    "<br>\n",
    "\n",
    "<b>Cell</b> di Jupiter ada 2 jenis:\n",
    "\n",
    "<ol>\n",
    "    <li>Mark down - (M)</li>\n",
    "    <li>Code - (Y)</li>\n",
    "    <li>Nama - (N)</li>\n",
    "</ol>\n",
    "<hr>"
   ]
  },
  {
   "cell_type": "markdown",
   "id": "a88c0b83",
   "metadata": {},
   "source": [
    "Cara menambahkan Cell ada 2:\n",
    "<ul>\n",
    "    <li>A (above) di atas cell</li>\n",
    "    <li>B (below) di bawah cell</li>\n",
    "</ul>\n",
    "\n",
    "<table>\n",
    "    <tr>\n",
    "        <td> NIM </td>\n",
    "        <td> : </td>\n",
    "        <td> 20240040160 </td>\n",
    "    </tr>\n",
    "    <tr>\n",
    "        <td> Nama </td>\n",
    "        <td> : </td>\n",
    "        <td> Isti Nur 'Afifah </td>\n",
    "    </tr>\n",
    "    <tr>\n",
    "        <td> Kelas </td>\n",
    "        <td> : </td>\n",
    "        <td> TI24G</td>\n",
    "    </tr>\n",
    "  </table>\n",
    "    \n",
    "    "
   ]
  },
  {
   "cell_type": "code",
   "execution_count": 4,
   "id": "9268b27a",
   "metadata": {},
   "outputs": [
    {
     "name": "stdout",
     "output_type": "stream",
     "text": [
      "python is very easy\n",
      "Sekarang hari jum'at\n",
      "Deklarasi variabel 'A'\n",
      "5\n"
     ]
    },
    {
     "data": {
      "text/plain": [
       "'54'"
      ]
     },
     "execution_count": 4,
     "metadata": {},
     "output_type": "execute_result"
    }
   ],
   "source": [
    "print(\"python is very easy\")\n",
    "print(\"Sekarang hari jum'at\")\n",
    "print(\"Deklarasi variabel 'A'\")\n",
    "number = \"5\"\n",
    "print(number)\n",
    "int (number) + 10\n",
    "number +\"4\""
   ]
  }
 ],
 "metadata": {
  "kernelspec": {
   "display_name": "Python 3 (ipykernel)",
   "language": "python",
   "name": "python3"
  },
  "language_info": {
   "codemirror_mode": {
    "name": "ipython",
    "version": 3
   },
   "file_extension": ".py",
   "mimetype": "text/x-python",
   "name": "python",
   "nbconvert_exporter": "python",
   "pygments_lexer": "ipython3",
   "version": "3.9.12"
  }
 },
 "nbformat": 4,
 "nbformat_minor": 5
}
